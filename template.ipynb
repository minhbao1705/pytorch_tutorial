{
  "nbformat": 4,
  "nbformat_minor": 0,
  "metadata": {
    "colab": {
      "provenance": [],
      "authorship_tag": "ABX9TyOdJ/2DcWiFNImRc8Zf1qiO",
      "include_colab_link": true
    },
    "kernelspec": {
      "name": "python3",
      "display_name": "Python 3"
    },
    "language_info": {
      "name": "python"
    }
  },
  "cells": [
    {
      "cell_type": "markdown",
      "metadata": {
        "id": "view-in-github",
        "colab_type": "text"
      },
      "source": [
        "<a href=\"https://colab.research.google.com/github/minhbao1705/pytorch_tutorial/blob/main/template.ipynb\" target=\"_parent\"><img src=\"https://colab.research.google.com/assets/colab-badge.svg\" alt=\"Open In Colab\"/></a>"
      ]
    },
    {
      "cell_type": "code",
      "execution_count": 2,
      "metadata": {
        "id": "6L6Lt-BpbpMT"
      },
      "outputs": [],
      "source": [
        "import torch\n",
        "import torchvision\n",
        "\n",
        "import torch.nn as nn\n",
        "import torchvision.transforms as transforms\n",
        "import numpy as np"
      ]
    },
    {
      "cell_type": "markdown",
      "source": [
        "# Ví dụ về Autograd"
      ],
      "metadata": {
        "id": "i2Xz6HB8cDO9"
      }
    },
    {
      "cell_type": "code",
      "source": [
        "# Xây dựng đồ thị tính toán với phương trình: y = 5*x + 10\n",
        "x = torch.tensor(5., requires_grad=True)\n",
        "w = torch.tensor(3., requires_grad=True)\n",
        "b = torch.tensor(10., requires_grad=True)\n",
        "\n",
        "y = w*x + b\n",
        "\n",
        "# Thực hiện tình gradients\n",
        "y.backward()\n",
        "\n",
        "print(\"x.grad: \", x.grad)\n",
        "print(\"w.grad: \", w.grad)\n",
        "print(\"b.grad: \", b.grad)"
      ],
      "metadata": {
        "colab": {
          "base_uri": "https://localhost:8080/"
        },
        "id": "E19-nLA4cAXe",
        "outputId": "ce1075ea-5cb5-4513-e5cf-195a666e6c19"
      },
      "execution_count": 3,
      "outputs": [
        {
          "output_type": "stream",
          "name": "stdout",
          "text": [
            "x.grad:  tensor(3.)\n",
            "w.grad:  tensor(5.)\n",
            "b.grad:  tensor(1.)\n"
          ]
        }
      ]
    },
    {
      "cell_type": "markdown",
      "source": [
        "# Ví dụ về Autograd (tiếp theo)"
      ],
      "metadata": {
        "id": "abVEkme3dD8s"
      }
    },
    {
      "cell_type": "code",
      "source": [
        "# Tạo 2 tensor x, y có kích thước lần lượt là (10, 4) và (10, 3)\n",
        "x = torch.randn(10, 4)\n",
        "y = torch.randn(10, 3)\n",
        "\n",
        "# Tạo fully connected layer\n",
        "linear_layer = nn.Linear(4, 3)\n",
        "print(\"w: \", linear_layer.weight)\n",
        "print(\"b: \", linear_layer.bias)\n",
        "\n",
        "# Xây dựng hàm loss và optimizer\n",
        "criterion = nn.MSELoss()\n",
        "optimizer = torch.optim.SGD(linear_layer.parameters(), lr=0.001)\n",
        "\n",
        "# Lan truyền tiến \n",
        "forward = linear_layer(x)\n",
        "\n",
        "# Tính giá trị loss\n",
        "loss = criterion(forward, y)\n",
        "print(\"loss: \", loss.item())\n",
        "\n",
        "# Lan truyền ngược\n",
        "loss.backward()\n",
        "\n",
        "# Xuất giá trị đạo hàm\n",
        "print(\"dL/dW: \", linear_layer.weight.grad)\n",
        "print(\"dL/dB: \", linear_layer.bias.grad)\n",
        "\n",
        "optimizer.step()\n",
        "\n",
        "# Xuất kết quả sau một bước đạo hàm\n",
        "pred = linear_layer(x)\n",
        "loss = criterion(pred, y)\n",
        "print('loss after 1 step optimization: ', loss.item())"
      ],
      "metadata": {
        "colab": {
          "base_uri": "https://localhost:8080/"
        },
        "id": "GTW2xVBwckIE",
        "outputId": "244b0e4e-ce90-4c58-9cb8-2851e7020493"
      },
      "execution_count": 4,
      "outputs": [
        {
          "output_type": "stream",
          "name": "stdout",
          "text": [
            "w:  Parameter containing:\n",
            "tensor([[ 0.1417,  0.1743, -0.2942, -0.4610],\n",
            "        [ 0.4749, -0.3777, -0.3547, -0.3145],\n",
            "        [-0.0052,  0.2074,  0.4225, -0.0094]], requires_grad=True)\n",
            "b:  Parameter containing:\n",
            "tensor([-0.3900, -0.4351,  0.4063], requires_grad=True)\n",
            "loss:  0.9158770442008972\n",
            "dL/dW:  tensor([[-0.0846, -0.0261,  0.1516, -0.0202],\n",
            "        [-0.1547, -0.4298, -0.1864, -0.0719],\n",
            "        [ 0.0193,  0.0355,  0.0591, -0.0121]])\n",
            "dL/dB:  tensor([-0.3548, -0.0386,  0.1787])\n",
            "loss after 1 step optimization:  0.9154328107833862\n"
          ]
        }
      ]
    },
    {
      "cell_type": "markdown",
      "source": [
        "# Load dữ liệu với numpy"
      ],
      "metadata": {
        "id": "6ztc3XyOiLh_"
      }
    },
    {
      "cell_type": "code",
      "source": [
        "x = np.array([[1, 2], [3, 4]])\n",
        "\n",
        "# Chuyển đổi numpy array sang torch tensor\n",
        "y = torch.from_numpy(x)\n",
        "print(\"type(y): \", type(y))\n",
        "\n",
        "# Chuyển đổi torch tensor sang numpy array\n",
        "z = y.numpy()\n",
        "print(\"type(z): \", type(z))"
      ],
      "metadata": {
        "colab": {
          "base_uri": "https://localhost:8080/"
        },
        "id": "d6qzdoQbgJqa",
        "outputId": "58e57cad-7c2e-4a6f-f74f-163b27a314f7"
      },
      "execution_count": 5,
      "outputs": [
        {
          "output_type": "stream",
          "name": "stdout",
          "text": [
            "type(y):  <class 'torch.Tensor'>\n",
            "type(z):  <class 'numpy.ndarray'>\n"
          ]
        }
      ]
    },
    {
      "cell_type": "markdown",
      "source": [
        "# Input pipeline"
      ],
      "metadata": {
        "id": "EgqJE7XFjwbf"
      }
    },
    {
      "cell_type": "code",
      "source": [
        "# Sử dụng dữ liệu với torchvision.datasets\n",
        "train_dataset = torchvision.datasets.CIFAR10(root=\"./data\",\n",
        "                                             train=True,\n",
        "                                             transform=transforms.ToTensor(),\n",
        "                                             download=True)\n",
        "\n",
        "image, label = train_dataset[0]\n",
        "print(\"size: \", image.size())\n",
        "print(\"label: \", label)\n",
        "\n",
        "# DataLoader\n",
        "train_loader = torch.utils.data.DataLoader(dataset=train_dataset,\n",
        "                                           batch_size=64,\n",
        "                                           shuffle=True)\n",
        "# Khi bắt đầu lặp, sẽ lần lượt đọc dữ liệu đưa vào queue và thread\n",
        "data_iter = iter(train_loader)\n",
        "\n",
        "# Thực hiện mini-batch trên các ảnh và nhãn tương ứng\n",
        "images, labels = next(data_iter)\n",
        "\n",
        "# Quá trình load ảnh thực tế được thực hiện nhưu sau\n",
        "for image, label in train_loader:\n",
        "  # Quá trình huấn luyện được thực hiện tại đây\n",
        "  pass\n",
        "\n"
      ],
      "metadata": {
        "id": "UyLQkabBjU24",
        "colab": {
          "base_uri": "https://localhost:8080/"
        },
        "outputId": "b544c410-340a-416b-97a9-a9c44cd25cdc"
      },
      "execution_count": 8,
      "outputs": [
        {
          "output_type": "stream",
          "name": "stdout",
          "text": [
            "Files already downloaded and verified\n",
            "size:  torch.Size([3, 32, 32])\n",
            "label:  6\n"
          ]
        }
      ]
    },
    {
      "cell_type": "markdown",
      "source": [
        "# Input pipeline for custom dataset"
      ],
      "metadata": {
        "id": "hJV6sOlLpFhu"
      }
    },
    {
      "cell_type": "code",
      "source": [
        "# Xây dựng hàm xử lý cho custom dataset\n",
        "class CustomDataset(object): # torch.utils.data.Dataset\n",
        "  def __init__(self):\n",
        "    # Khởi tạo danh sách đường dẫn hình hoặc tên hình\n",
        "    pass\n",
        "\n",
        "  def get_item(self, index):\n",
        "    # Đọc data từ file (numpy.fromfile, PIL.Image.open)\n",
        "    # Tiền xử lí dữ liệu (torchvision.Transform)\n",
        "    # Trả về một cặp dữ liệu (image và label)\n",
        "    pass\n",
        "  \n",
        "  def __len__(self):\n",
        "    # Trả về số lượng mẫu trong dữ liệu\n",
        "    pass"
      ],
      "metadata": {
        "id": "j06cDKJ_nZNQ"
      },
      "execution_count": 9,
      "outputs": []
    },
    {
      "cell_type": "markdown",
      "source": [
        "# Pretrained model"
      ],
      "metadata": {
        "id": "wKnD8zWhqMlt"
      }
    },
    {
      "cell_type": "code",
      "source": [
        "# Sử dụng pretrained ResNet-18\n",
        "resnet = torchvision.models.resnet18(pretrained=True)\n",
        "\n",
        "# Finetune model\n",
        "for param in resnet.parameters():\n",
        "  param.requires_grad = False\n",
        "\n",
        "# Thay thế top ko layer đầu tiên cho finetuning\n",
        "resnet.fc = nn.Linear(resnet.fc.in_features, 100) # k = 100\n",
        "\n",
        "# Lan truyền tiến\n",
        "image = torch.rand(64, 3, 224, 224)\n",
        "outputs = resnet(image)\n",
        "print(\"output size: \", outputs.size())"
      ],
      "metadata": {
        "colab": {
          "base_uri": "https://localhost:8080/"
        },
        "id": "SrRpw1GXp0TP",
        "outputId": "2e57d2e3-5dc0-4a72-df22-24a344dd2166"
      },
      "execution_count": 12,
      "outputs": [
        {
          "output_type": "stream",
          "name": "stderr",
          "text": [
            "/usr/local/lib/python3.10/dist-packages/torchvision/models/_utils.py:208: UserWarning: The parameter 'pretrained' is deprecated since 0.13 and may be removed in the future, please use 'weights' instead.\n",
            "  warnings.warn(\n",
            "/usr/local/lib/python3.10/dist-packages/torchvision/models/_utils.py:223: UserWarning: Arguments other than a weight enum or `None` for 'weights' are deprecated since 0.13 and may be removed in the future. The current behavior is equivalent to passing `weights=ResNet18_Weights.IMAGENET1K_V1`. You can also use `weights=ResNet18_Weights.DEFAULT` to get the most up-to-date weights.\n",
            "  warnings.warn(msg)\n"
          ]
        },
        {
          "output_type": "stream",
          "name": "stdout",
          "text": [
            "output size:  torch.Size([64, 100])\n"
          ]
        }
      ]
    },
    {
      "cell_type": "markdown",
      "source": [
        "# Save and Load model"
      ],
      "metadata": {
        "id": "SSt1I4p6rb3L"
      }
    },
    {
      "cell_type": "code",
      "source": [
        "torch.save(resnet, \"model_resnet18.ckpt\")\n",
        "model = torch.load('model_resnet18.ckpt')\n",
        "print(\"load model....\")\n",
        "\n",
        "# Save and load only the model parameters (thường dùng).\n",
        "torch.save(resnet.state_dict(), 'params_resnet.ckpt')\n",
        "resnet.load_state_dict(torch.load('params_resnet.ckpt'))\n",
        "print(\"load params.....\")"
      ],
      "metadata": {
        "colab": {
          "base_uri": "https://localhost:8080/"
        },
        "id": "XK0_70f8qe03",
        "outputId": "d95d5d81-2c9a-4fc5-c916-088df99f9635"
      },
      "execution_count": 13,
      "outputs": [
        {
          "output_type": "stream",
          "name": "stdout",
          "text": [
            "load model....\n",
            "load params.....\n"
          ]
        }
      ]
    }
  ]
}