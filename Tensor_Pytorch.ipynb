{
  "nbformat": 4,
  "nbformat_minor": 0,
  "metadata": {
    "colab": {
      "provenance": [],
      "authorship_tag": "ABX9TyPZszwA00NRY8r/fH3xHF2M",
      "include_colab_link": true
    },
    "kernelspec": {
      "name": "python3",
      "display_name": "Python 3"
    },
    "language_info": {
      "name": "python"
    }
  },
  "cells": [
    {
      "cell_type": "markdown",
      "metadata": {
        "id": "view-in-github",
        "colab_type": "text"
      },
      "source": [
        "<a href=\"https://colab.research.google.com/github/minhbao1705/pytorch_tutorial/blob/main/Tensor_Pytorch.ipynb\" target=\"_parent\"><img src=\"https://colab.research.google.com/assets/colab-badge.svg\" alt=\"Open In Colab\"/></a>"
      ]
    },
    {
      "cell_type": "markdown",
      "source": [
        "# 1. Giới thiệu pytorch"
      ],
      "metadata": {
        "id": "VPoQnIcpp_oX"
      }
    },
    {
      "cell_type": "markdown",
      "source": [
        "Pytorch là một thư viện của Python được dùng để xây dựng mô hình AI. Với sự linh hoạt và cho phép các mô hình học sâu được dễ dàng xây dựng từ python - Pytorch được phát triển bởi nhóm nghiên cứu hàng đầu của facebook đang ngày càng được sử dụng nhiều trong giới nghiên cứu và phát triển các sản phẩm AI. Pytorch cho phép khả năng tăng tốc phần cứng dựa trên GPU qua đó hỗ trợ rất nhiều trong việc huấn luyện mô hình.\n",
        "\n",
        "## a. Một số đặc trưng của Pytorch\n",
        "Dưới đây là một vài những thuộc tính quan trọng giúp cho pytorch ngày càng được thịnh hành hơn.\n",
        "- **Easy Interface**: Pytorch cung cấp API để sử dụng - vì vậy việc triển khải và thực thi code với framework trở nên dễ dàng hơn.\n",
        "- **Python Usage**: Bên cạnh việc hỗ trợ mạnh mẽ cho AI, DS thì pytorch có thể tận dụng tất cả các dịch vụ, chức năng và môi trường được cung cấp bởi Python.\n",
        "- **Computational Graph**: Pytorch cung cấp các đồ thị tính toán động (dynamic computational graphs) - do đó người dùng có thể thay đổi chúng trong thời gian thực thi.\n",
        "\n",
        "## b. Một số tiện ích của Pytorch \n",
        "Một số tiện ích khi làm việc với Pytorch:\n",
        "- Dễ dàng hiểu và debug code.\n",
        "- Pytorch như một phần mở rộng của Numpy khi hỗ trợ việc tính toán trên GPU.\n",
        "- Dễ dàng xây dựng triển khai kiến trúc mạng."
      ],
      "metadata": {
        "id": "U9Z2MMALqIlZ"
      }
    },
    {
      "cell_type": "markdown",
      "source": [
        "# 2. Tensor"
      ],
      "metadata": {
        "id": "oxR_TwFSsFdd"
      }
    },
    {
      "cell_type": "markdown",
      "source": [
        "## I - Giới thiệu tensor\n",
        "Tensor là một kiểu dữ liệu cho phép lưu trữ dữ liệu với số chiều tùy ý, dữ liệu lưu trữ này có thể là một giá trí vô hướng, vector, mảng 1 chiều, mảng 2 chiều hay mảng n chiều.\n",
        "VD: \n",
        "- Giá trí vô hướng: 100\n",
        "- Vector: [1, 2, 3]\n",
        "- Mảng 2 chiều: [[1, 2, 3], [2, 3, 4]]\n",
        "- Mảng n chiều (n=3): [[[1, 2], [2, 3]]]"
      ],
      "metadata": {
        "id": "nKh8WJ9msHOp"
      }
    },
    {
      "cell_type": "code",
      "execution_count": 1,
      "metadata": {
        "colab": {
          "base_uri": "https://localhost:8080/"
        },
        "id": "XZH057PIpDeb",
        "outputId": "be50de53-810c-4b16-b668-4e26ae48b912"
      },
      "outputs": [
        {
          "output_type": "stream",
          "name": "stdout",
          "text": [
            "scalar:  tensor([5.6766e+27])\n",
            "vector:  tensor([0., 0., 0.])\n",
            "matrix2D:  tensor([[1., 1., 1.],\n",
            "        [1., 1., 1.]])\n",
            "matrix3D:  tensor([[[0.1953, 0.8326, 0.6490],\n",
            "         [0.3934, 0.3118, 0.3393]],\n",
            "\n",
            "        [[0.3484, 0.8730, 0.3108],\n",
            "         [0.6762, 0.1734, 0.9980]]])\n"
          ]
        }
      ],
      "source": [
        "import torch\n",
        "\n",
        "scalar = torch.empty(1)\n",
        "print(\"scalar: \", scalar)\n",
        "vector = torch.zeros(3)\n",
        "print(\"vector: \", vector)\n",
        "matrix2D = torch.ones(2, 3)\n",
        "print(\"matrix2D: \", matrix2D)\n",
        "matrix3D = torch.rand(2, 2, 3)\n",
        "print(\"matrix3D: \", matrix3D)"
      ]
    },
    {
      "cell_type": "code",
      "source": [
        "# check size\n",
        "matrix2D.size()"
      ],
      "metadata": {
        "colab": {
          "base_uri": "https://localhost:8080/"
        },
        "id": "QhBryl6otGS0",
        "outputId": "7df04fb5-621c-4e0a-e73a-2b4b5c91fd95"
      },
      "execution_count": 2,
      "outputs": [
        {
          "output_type": "execute_result",
          "data": {
            "text/plain": [
              "torch.Size([2, 3])"
            ]
          },
          "metadata": {},
          "execution_count": 2
        }
      ]
    },
    {
      "cell_type": "code",
      "source": [
        "# check data type\n",
        "matrix3D.dtype"
      ],
      "metadata": {
        "colab": {
          "base_uri": "https://localhost:8080/"
        },
        "id": "_0fDSxEwtgJw",
        "outputId": "d3824e10-627f-43ba-a17d-b54f47aeaeb5"
      },
      "execution_count": 3,
      "outputs": [
        {
          "output_type": "execute_result",
          "data": {
            "text/plain": [
              "torch.float32"
            ]
          },
          "metadata": {},
          "execution_count": 3
        }
      ]
    },
    {
      "cell_type": "code",
      "source": [
        "# specify types, float32 default\n",
        "x = torch.zeros(2, 2, dtype=torch.float16)\n",
        "print(x)"
      ],
      "metadata": {
        "colab": {
          "base_uri": "https://localhost:8080/"
        },
        "id": "TABc4LcstjAT",
        "outputId": "315dadec-5726-47d5-ba90-44d2e55d3bb2"
      },
      "execution_count": 4,
      "outputs": [
        {
          "output_type": "stream",
          "name": "stdout",
          "text": [
            "tensor([[0., 0.],\n",
            "        [0., 0.]], dtype=torch.float16)\n"
          ]
        }
      ]
    },
    {
      "cell_type": "code",
      "source": [
        "# construct from data\n",
        "x = torch.tensor([5.5, 3])\n",
        "print(x.size())\n",
        "print(x)"
      ],
      "metadata": {
        "colab": {
          "base_uri": "https://localhost:8080/"
        },
        "id": "yw_IFcWOtuWM",
        "outputId": "a5dafeda-3b08-465b-8237-47800eb67f92"
      },
      "execution_count": 5,
      "outputs": [
        {
          "output_type": "stream",
          "name": "stdout",
          "text": [
            "torch.Size([2])\n",
            "tensor([5.5000, 3.0000])\n"
          ]
        }
      ]
    },
    {
      "cell_type": "markdown",
      "source": [
        "## II - requires_grad_argument\n",
        "\n",
        "Tham số này cho biết tensor cần được tính đạo hàm - đây là một bước quan trọng trong quá trình training model."
      ],
      "metadata": {
        "id": "optX38T0uJtO"
      }
    },
    {
      "cell_type": "code",
      "source": [
        "x = torch.tensor([6., 9.], requires_grad=True)\n",
        "print(x)"
      ],
      "metadata": {
        "colab": {
          "base_uri": "https://localhost:8080/"
        },
        "id": "tx9mZ2kNt-vz",
        "outputId": "6f736beb-f499-483a-dec0-a9b326df5a3d"
      },
      "execution_count": 6,
      "outputs": [
        {
          "output_type": "stream",
          "name": "stdout",
          "text": [
            "tensor([6., 9.], requires_grad=True)\n"
          ]
        }
      ]
    },
    {
      "cell_type": "markdown",
      "source": [
        "## III - Một số phép toán trong tensor"
      ],
      "metadata": {
        "id": "Ig30mOmDIjF7"
      }
    },
    {
      "cell_type": "code",
      "source": [
        "x = torch.rand(3, 3)\n",
        "y = torch.rand(3, 3)"
      ],
      "metadata": {
        "id": "QHh-B2noIgzl"
      },
      "execution_count": 7,
      "outputs": []
    },
    {
      "cell_type": "code",
      "source": [
        "# elementwise addition\n",
        "z = x + y\n",
        "_z = torch.add(x, y)\n",
        "print(z)\n",
        "print(_z)"
      ],
      "metadata": {
        "colab": {
          "base_uri": "https://localhost:8080/"
        },
        "id": "pdR52sfWJOrZ",
        "outputId": "3311a27f-3c6e-40dd-a024-02df963f7e7d"
      },
      "execution_count": 9,
      "outputs": [
        {
          "output_type": "stream",
          "name": "stdout",
          "text": [
            "tensor([[1.5613, 0.9238, 0.1394],\n",
            "        [0.6728, 1.0922, 0.3278],\n",
            "        [0.1665, 1.4842, 1.0978]])\n",
            "tensor([[1.5613, 0.9238, 0.1394],\n",
            "        [0.6728, 1.0922, 0.3278],\n",
            "        [0.1665, 1.4842, 1.0978]])\n"
          ]
        }
      ]
    },
    {
      "cell_type": "code",
      "source": [
        "# suntraction\n",
        "z = x - y\n",
        "_z = torch.sub(x, y)\n",
        "print(z)\n",
        "print(_z)"
      ],
      "metadata": {
        "colab": {
          "base_uri": "https://localhost:8080/"
        },
        "id": "CEwhFC5AJyMi",
        "outputId": "074d5ccb-a72b-48ef-bd5c-f4cd047b1cc0"
      },
      "execution_count": 10,
      "outputs": [
        {
          "output_type": "stream",
          "name": "stdout",
          "text": [
            "tensor([[-0.3937, -0.5635,  0.0816],\n",
            "        [-0.4842, -0.3620, -0.2451],\n",
            "        [-0.0323,  0.1695,  0.8260]])\n",
            "tensor([[-0.3937, -0.5635,  0.0816],\n",
            "        [-0.4842, -0.3620, -0.2451],\n",
            "        [-0.0323,  0.1695,  0.8260]])\n"
          ]
        }
      ]
    },
    {
      "cell_type": "code",
      "source": [
        "# mutiplication\n",
        "z = x * y\n",
        "_z = torch.mul(x, y)\n",
        "print(z)\n",
        "print(_z)"
      ],
      "metadata": {
        "colab": {
          "base_uri": "https://localhost:8080/"
        },
        "id": "WcQT1lySKPNS",
        "outputId": "d49ff507-15b6-476f-f0ab-0203fdd5a2d2"
      },
      "execution_count": 11,
      "outputs": [
        {
          "output_type": "stream",
          "name": "stdout",
          "text": [
            "tensor([[0.5707, 0.1340, 0.0032],\n",
            "        [0.0546, 0.2655, 0.0119],\n",
            "        [0.0067, 0.5435, 0.1307]])\n",
            "tensor([[0.5707, 0.1340, 0.0032],\n",
            "        [0.0546, 0.2655, 0.0119],\n",
            "        [0.0067, 0.5435, 0.1307]])\n"
          ]
        }
      ]
    },
    {
      "cell_type": "code",
      "source": [
        "# division\n",
        "z = x / y\n",
        "_z = torch.div(x, y)\n",
        "print(z)\n",
        "print(_z)"
      ],
      "metadata": {
        "colab": {
          "base_uri": "https://localhost:8080/"
        },
        "id": "R--ChvpJKcli",
        "outputId": "a2c54a04-0763-4e63-a3df-822da9f1dcde"
      },
      "execution_count": 12,
      "outputs": [
        {
          "output_type": "stream",
          "name": "stdout",
          "text": [
            "tensor([[0.5973, 0.2423, 3.8210],\n",
            "        [0.1630, 0.5021, 0.1445],\n",
            "        [0.6754, 1.2579, 7.0798]])\n",
            "tensor([[0.5973, 0.2423, 3.8210],\n",
            "        [0.1630, 0.5021, 0.1445],\n",
            "        [0.6754, 1.2579, 7.0798]])\n"
          ]
        }
      ]
    },
    {
      "cell_type": "markdown",
      "source": [
        "## IV - Slicing"
      ],
      "metadata": {
        "id": "tPWxTcmOKntl"
      }
    },
    {
      "cell_type": "code",
      "source": [
        "x = torch.rand(3, 5)\n",
        "print(x)"
      ],
      "metadata": {
        "colab": {
          "base_uri": "https://localhost:8080/"
        },
        "id": "Q_Sz8iCwKi2d",
        "outputId": "16e4feac-b69c-40fc-c369-eca24f50a338"
      },
      "execution_count": 13,
      "outputs": [
        {
          "output_type": "stream",
          "name": "stdout",
          "text": [
            "tensor([[0.5070, 0.3083, 0.3087, 0.5748, 0.7191],\n",
            "        [0.1583, 0.2155, 0.1802, 0.3515, 0.9752],\n",
            "        [0.6955, 0.1142, 0.9946, 0.8586, 0.4828]])\n"
          ]
        }
      ]
    },
    {
      "cell_type": "code",
      "source": [
        "# all rows, column 0\n",
        "print(x[:, 0])"
      ],
      "metadata": {
        "colab": {
          "base_uri": "https://localhost:8080/"
        },
        "id": "KgYI1LbGKwWQ",
        "outputId": "09a67928-7006-444d-f70a-92b2d8d242d5"
      },
      "execution_count": 14,
      "outputs": [
        {
          "output_type": "stream",
          "name": "stdout",
          "text": [
            "tensor([0.5070, 0.1583, 0.6955])\n"
          ]
        }
      ]
    },
    {
      "cell_type": "code",
      "source": [
        "# row 1, all column\n",
        "print(x[1, :])"
      ],
      "metadata": {
        "colab": {
          "base_uri": "https://localhost:8080/"
        },
        "id": "kUbxha8mKz38",
        "outputId": "f0764693-895d-485e-e305-416391b8729b"
      },
      "execution_count": 15,
      "outputs": [
        {
          "output_type": "stream",
          "name": "stdout",
          "text": [
            "tensor([0.1583, 0.2155, 0.1802, 0.3515, 0.9752])\n"
          ]
        }
      ]
    },
    {
      "cell_type": "code",
      "source": [
        "# get element at 1,1\n",
        "print(x[1, 1])"
      ],
      "metadata": {
        "colab": {
          "base_uri": "https://localhost:8080/"
        },
        "id": "z-XbdluxK-AB",
        "outputId": "d31c173c-2e02-44e5-ff48-0366a6515e38"
      },
      "execution_count": 16,
      "outputs": [
        {
          "output_type": "stream",
          "name": "stdout",
          "text": [
            "tensor(0.2155)\n"
          ]
        }
      ]
    },
    {
      "cell_type": "markdown",
      "source": [
        "Lấy giá trị thực của (sử dụng khi chỉ có 1 phần tử trong tensor)"
      ],
      "metadata": {
        "id": "5zjL2ryWLDMm"
      }
    },
    {
      "cell_type": "code",
      "source": [
        "print(x[1, 1].item())"
      ],
      "metadata": {
        "colab": {
          "base_uri": "https://localhost:8080/"
        },
        "id": "CxYjhL2eLB-z",
        "outputId": "dacec6a5-8a6f-49eb-8511-4e47c877ae58"
      },
      "execution_count": 17,
      "outputs": [
        {
          "output_type": "stream",
          "name": "stdout",
          "text": [
            "0.21547359228134155\n"
          ]
        }
      ]
    },
    {
      "cell_type": "markdown",
      "source": [
        "## V - Reshape"
      ],
      "metadata": {
        "id": "yL_NZcWTLgYZ"
      }
    },
    {
      "cell_type": "code",
      "source": [
        "x = torch.rand(4, 4)"
      ],
      "metadata": {
        "id": "seyXyQylLJgG"
      },
      "execution_count": 19,
      "outputs": []
    },
    {
      "cell_type": "code",
      "source": [
        "y = x.view(16)\n",
        "print(y)\n",
        "print(y.size())"
      ],
      "metadata": {
        "colab": {
          "base_uri": "https://localhost:8080/"
        },
        "id": "eqfdShN1LnGz",
        "outputId": "def0439c-65eb-431c-dbe3-cd056c59cbfa"
      },
      "execution_count": 20,
      "outputs": [
        {
          "output_type": "stream",
          "name": "stdout",
          "text": [
            "tensor([0.5223, 0.1095, 0.4484, 0.9745, 0.7486, 0.6275, 0.8312, 0.4636, 0.3319,\n",
            "        0.3699, 0.6107, 0.5699, 0.8057, 0.4325, 0.5523, 0.0466])\n",
            "torch.Size([16])\n"
          ]
        }
      ]
    },
    {
      "cell_type": "markdown",
      "source": [
        "Sử dụng -1 để suy ra chiều mới từ số chiều hiện tại với -1 pytorch sẽ tự động quyết định size cần thiết"
      ],
      "metadata": {
        "id": "Ah_RW393Ls_e"
      }
    },
    {
      "cell_type": "code",
      "source": [
        "y = x.view(-1, 8)\n",
        "print(y)\n",
        "print(y.size())"
      ],
      "metadata": {
        "colab": {
          "base_uri": "https://localhost:8080/"
        },
        "id": "nEap3uoBLrBH",
        "outputId": "3e1f09e1-03fc-46eb-ec52-3bb82219bf62"
      },
      "execution_count": 22,
      "outputs": [
        {
          "output_type": "stream",
          "name": "stdout",
          "text": [
            "tensor([[0.5223, 0.1095, 0.4484, 0.9745, 0.7486, 0.6275, 0.8312, 0.4636],\n",
            "        [0.3319, 0.3699, 0.6107, 0.5699, 0.8057, 0.4325, 0.5523, 0.0466]])\n",
            "torch.Size([2, 8])\n"
          ]
        }
      ]
    },
    {
      "cell_type": "markdown",
      "source": [
        "## VI - Pytorch và Numpy"
      ],
      "metadata": {
        "id": "KxTiFUHeMbI-"
      }
    },
    {
      "cell_type": "code",
      "source": [
        "# torch to numpy\n",
        "a = torch.ones(3)\n",
        "print(a)\n",
        "print(type(a))\n",
        "b = a.numpy()\n",
        "print(b)\n",
        "print(type(b))"
      ],
      "metadata": {
        "colab": {
          "base_uri": "https://localhost:8080/"
        },
        "id": "CogvccBcL2up",
        "outputId": "5b8eac5a-4095-4ae5-c2ba-ba734dce99a5"
      },
      "execution_count": 23,
      "outputs": [
        {
          "output_type": "stream",
          "name": "stdout",
          "text": [
            "tensor([1., 1., 1.])\n",
            "<class 'torch.Tensor'>\n",
            "[1. 1. 1.]\n",
            "<class 'numpy.ndarray'>\n"
          ]
        }
      ]
    },
    {
      "cell_type": "markdown",
      "source": [
        "Lưu ý: nếu tensor đang được chạy trên cpu, cả 2 object đều chia sẻ cùng một memory location, vì vậy khi thay đổi một object thì object còn lại cũng sẽ được thay đổi bằng cú pháp sau"
      ],
      "metadata": {
        "id": "Kme_xEtZMunQ"
      }
    },
    {
      "cell_type": "code",
      "source": [
        "a.add(1)\n",
        "print(a)\n",
        "print(b)"
      ],
      "metadata": {
        "colab": {
          "base_uri": "https://localhost:8080/"
        },
        "id": "uuIdfQPqMmEe",
        "outputId": "40de557a-1cea-4874-a72b-b733c163188a"
      },
      "execution_count": 25,
      "outputs": [
        {
          "output_type": "stream",
          "name": "stdout",
          "text": [
            "tensor([1., 1., 1.])\n",
            "[1. 1. 1.]\n"
          ]
        }
      ]
    },
    {
      "cell_type": "code",
      "source": [
        "a.add_(1)\n",
        "print(a)\n",
        "print(b)"
      ],
      "metadata": {
        "colab": {
          "base_uri": "https://localhost:8080/"
        },
        "id": "OzoDXrCVNeUN",
        "outputId": "606944a0-815b-4bfa-96b0-0289b38eeaae"
      },
      "execution_count": 26,
      "outputs": [
        {
          "output_type": "stream",
          "name": "stdout",
          "text": [
            "tensor([2., 2., 2.])\n",
            "[2. 2. 2.]\n"
          ]
        }
      ]
    },
    {
      "cell_type": "code",
      "source": [
        "# numpy to torch\n",
        "import numpy as np\n",
        "a = np.ones(6)\n",
        "b = torch.from_numpy(a)\n",
        "print(a)\n",
        "print(type(a))\n",
        "print(b)\n",
        "print(type(b))"
      ],
      "metadata": {
        "colab": {
          "base_uri": "https://localhost:8080/"
        },
        "id": "jGEPQ___N0GV",
        "outputId": "71ff0359-bc44-4aad-86c6-71c2bcb1bcd1"
      },
      "execution_count": 27,
      "outputs": [
        {
          "output_type": "stream",
          "name": "stdout",
          "text": [
            "[1. 1. 1. 1. 1. 1.]\n",
            "<class 'numpy.ndarray'>\n",
            "tensor([1., 1., 1., 1., 1., 1.], dtype=torch.float64)\n",
            "<class 'torch.Tensor'>\n"
          ]
        }
      ]
    },
    {
      "cell_type": "markdown",
      "source": [
        "Tương tự như cách torch chuyển sang numpy. Thì numpy chuyển sang torch cũng v"
      ],
      "metadata": {
        "id": "00G50x--OSAF"
      }
    },
    {
      "cell_type": "code",
      "source": [
        "a += 1\n",
        "print(a)\n",
        "print(b)"
      ],
      "metadata": {
        "colab": {
          "base_uri": "https://localhost:8080/"
        },
        "id": "Q7pRun2XOLt0",
        "outputId": "d005e8a6-4c5f-4306-92b5-3f8427d2fe62"
      },
      "execution_count": 28,
      "outputs": [
        {
          "output_type": "stream",
          "name": "stdout",
          "text": [
            "[2. 2. 2. 2. 2. 2.]\n",
            "tensor([2., 2., 2., 2., 2., 2.], dtype=torch.float64)\n"
          ]
        }
      ]
    },
    {
      "cell_type": "markdown",
      "source": [
        "# VII - Check and config device"
      ],
      "metadata": {
        "id": "gqu1hKK6OhDD"
      }
    },
    {
      "cell_type": "code",
      "source": [
        "device = torch.device('cuda' if torch.cuda.is_available() else 'cpu')\n",
        "print(device)"
      ],
      "metadata": {
        "colab": {
          "base_uri": "https://localhost:8080/"
        },
        "id": "p2bQ6-7_Oe3p",
        "outputId": "411e9fbe-a453-440b-de97-053cb0b92e37"
      },
      "execution_count": 29,
      "outputs": [
        {
          "output_type": "stream",
          "name": "stdout",
          "text": [
            "cpu\n"
          ]
        }
      ]
    },
    {
      "cell_type": "markdown",
      "source": [
        "## VIII - Move Tensors to GPU"
      ],
      "metadata": {
        "id": "tDovo_dZOv5A"
      }
    },
    {
      "cell_type": "markdown",
      "source": [
        "Để sử dụng GPU tính toán các giá trị tensor ta sử dụng cách sau:"
      ],
      "metadata": {
        "id": "GpIFQAEYOz5i"
      }
    },
    {
      "cell_type": "code",
      "source": [
        "x = torch.ones(5)\n",
        "if torch.cuda.is_available():\n",
        "  device = torch.device(\"cuda\")\n",
        "  y = torch.ones(5, device=device)\n",
        "  z = x.to(device)\n",
        "  z = x + y\n",
        "  print(z)"
      ],
      "metadata": {
        "id": "JYu1OW5lOq-f"
      },
      "execution_count": 31,
      "outputs": []
    },
    {
      "cell_type": "markdown",
      "source": [
        "Lưu ý rằng numpy không chạy được trên GPU vì vậy muốn chuyển torch sang numpy thì phải set device lại thành cpu rồi mới thực hiện bước chuyển."
      ],
      "metadata": {
        "id": "-eL54tyGPJqI"
      }
    }
  ]
}