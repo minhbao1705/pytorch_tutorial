{
  "nbformat": 4,
  "nbformat_minor": 0,
  "metadata": {
    "colab": {
      "provenance": [],
      "authorship_tag": "ABX9TyNMsSvidyiws+1yIIx7Aexp",
      "include_colab_link": true
    },
    "kernelspec": {
      "name": "python3",
      "display_name": "Python 3"
    },
    "language_info": {
      "name": "python"
    }
  },
  "cells": [
    {
      "cell_type": "markdown",
      "metadata": {
        "id": "view-in-github",
        "colab_type": "text"
      },
      "source": [
        "<a href=\"https://colab.research.google.com/github/minhbao1705/pytorch_tutorial/blob/main/feedforward_neural_network.ipynb\" target=\"_parent\"><img src=\"https://colab.research.google.com/assets/colab-badge.svg\" alt=\"Open In Colab\"/></a>"
      ]
    },
    {
      "cell_type": "code",
      "execution_count": 1,
      "metadata": {
        "id": "nw90LKiZspA-"
      },
      "outputs": [],
      "source": [
        "import torch\n",
        "import torchvision\n",
        "import torch.nn as nn\n",
        "import torchvision.transforms as transforms"
      ]
    },
    {
      "cell_type": "markdown",
      "source": [
        "# Devide configuration"
      ],
      "metadata": {
        "id": "BkpZpKKkKVHV"
      }
    },
    {
      "cell_type": "code",
      "source": [
        "device = torch.device('cuda' if torch.cuda.is_available() else 'cpu')"
      ],
      "metadata": {
        "id": "etjEDKI4KUeX"
      },
      "execution_count": 2,
      "outputs": []
    },
    {
      "cell_type": "markdown",
      "source": [
        "# Hyper-parameters"
      ],
      "metadata": {
        "id": "YivkPMkRKgN5"
      }
    },
    {
      "cell_type": "code",
      "source": [
        "input_size = 28*28\n",
        "hidden_size = 500\n",
        "num_classes = 10\n",
        "num_epochs = 10\n",
        "batch_size = 100\n",
        "learning_rate = 0.001"
      ],
      "metadata": {
        "id": "6KL6JiwEKfVD"
      },
      "execution_count": 3,
      "outputs": []
    },
    {
      "cell_type": "markdown",
      "source": [
        "# MNIST dataset"
      ],
      "metadata": {
        "id": "ZgSlRBdpKt2t"
      }
    },
    {
      "cell_type": "code",
      "source": [
        "!wget www.di.ens.fr/~lelarge/MNIST.tar.gz\n",
        "!tar -zxvf MNIST.tar.gz"
      ],
      "metadata": {
        "colab": {
          "base_uri": "https://localhost:8080/"
        },
        "id": "wPBeiH7UKtOk",
        "outputId": "63ea8c46-8e1c-4a19-e381-7143b1f9414d"
      },
      "execution_count": 4,
      "outputs": [
        {
          "output_type": "stream",
          "name": "stdout",
          "text": [
            "--2023-06-08 08:42:15--  http://www.di.ens.fr/~lelarge/MNIST.tar.gz\n",
            "Resolving www.di.ens.fr (www.di.ens.fr)... 129.199.99.14\n",
            "Connecting to www.di.ens.fr (www.di.ens.fr)|129.199.99.14|:80... connected.\n",
            "HTTP request sent, awaiting response... 302 Found\n",
            "Location: https://www.di.ens.fr/~lelarge/MNIST.tar.gz [following]\n",
            "--2023-06-08 08:42:15--  https://www.di.ens.fr/~lelarge/MNIST.tar.gz\n",
            "Connecting to www.di.ens.fr (www.di.ens.fr)|129.199.99.14|:443... connected.\n",
            "HTTP request sent, awaiting response... 200 OK\n",
            "Length: unspecified [application/x-gzip]\n",
            "Saving to: ‘MNIST.tar.gz’\n",
            "\n",
            "MNIST.tar.gz            [     <=>            ]  33.20M  6.07MB/s    in 15s     \n",
            "\n",
            "2023-06-08 08:42:30 (2.23 MB/s) - ‘MNIST.tar.gz’ saved [34813078]\n",
            "\n",
            "MNIST/\n",
            "MNIST/raw/\n",
            "MNIST/raw/train-labels-idx1-ubyte\n",
            "MNIST/raw/t10k-labels-idx1-ubyte.gz\n",
            "MNIST/raw/t10k-labels-idx1-ubyte\n",
            "MNIST/raw/t10k-images-idx3-ubyte.gz\n",
            "MNIST/raw/train-images-idx3-ubyte\n",
            "MNIST/raw/train-labels-idx1-ubyte.gz\n",
            "MNIST/raw/t10k-images-idx3-ubyte\n",
            "MNIST/raw/train-images-idx3-ubyte.gz\n",
            "MNIST/processed/\n",
            "MNIST/processed/training.pt\n",
            "MNIST/processed/test.pt\n"
          ]
        }
      ]
    },
    {
      "cell_type": "code",
      "source": [
        "train_dataset = torchvision.datasets.MNIST(root='./',\n",
        "                                          train=True,\n",
        "                                          transform=transforms.ToTensor(),\n",
        "                                          download=True)\n",
        "\n",
        "test_dataset = torchvision.datasets.MNIST(root='./',\n",
        "                                           train=False,\n",
        "                                           transform=transforms.ToTensor())\n",
        "\n",
        "# Data loader (input pipeline)\n",
        "train_loader = torch.utils.data.DataLoader(dataset=train_dataset,\n",
        "                                           batch_size=batch_size,\n",
        "                                           shuffle=True)\n",
        "\n",
        "test_loader = torch.utils.data.DataLoader(dataset=test_dataset,\n",
        "                                          batch_size=batch_size,\n",
        "                                          shuffle=False)"
      ],
      "metadata": {
        "id": "DUsFbeTLK64o"
      },
      "execution_count": 6,
      "outputs": []
    },
    {
      "cell_type": "markdown",
      "source": [
        "# Fully connected neural network with one hidden layer"
      ],
      "metadata": {
        "id": "Fe36vjTdMUT2"
      }
    },
    {
      "cell_type": "code",
      "source": [
        "class NeuralNet(nn.Module):\n",
        "  def __init__(self, input_size, hidden_size, num_classes):\n",
        "    super(NeuralNet, self).__init__()\n",
        "    self.fc1 = nn.Linear(input_size, hidden_size)\n",
        "    self.relu = nn.ReLU()\n",
        "    self.fc2 = nn.Linear(hidden_size, num_classes)\n",
        "\n",
        "  def forward(self, x):\n",
        "    out = self.fc1(x)\n",
        "    out = self.relu(out)\n",
        "    out = self.fc2(out)\n",
        "\n",
        "    return out"
      ],
      "metadata": {
        "id": "Hpx_r9v8MRQg"
      },
      "execution_count": 7,
      "outputs": []
    },
    {
      "cell_type": "markdown",
      "source": [
        "# Create model"
      ],
      "metadata": {
        "id": "9w_kFGarNDVU"
      }
    },
    {
      "cell_type": "code",
      "source": [
        "model = NeuralNet(input_size, hidden_size, num_classes).to(device)"
      ],
      "metadata": {
        "id": "tRZkD7lrNCXa"
      },
      "execution_count": 8,
      "outputs": []
    },
    {
      "cell_type": "markdown",
      "source": [
        "# Loss and optimizer"
      ],
      "metadata": {
        "id": "8Jp49naUNOTi"
      }
    },
    {
      "cell_type": "code",
      "source": [
        "criterion = nn.CrossEntropyLoss()\n",
        "optimizer = torch.optim.SGD(model.parameters(), lr=learning_rate)"
      ],
      "metadata": {
        "id": "OX2bljXyNNXM"
      },
      "execution_count": 9,
      "outputs": []
    },
    {
      "cell_type": "markdown",
      "source": [
        "# Train the model"
      ],
      "metadata": {
        "id": "ybLaDTSENwXC"
      }
    },
    {
      "cell_type": "code",
      "source": [
        "total_step = len(train_loader)\n",
        "for epoch in range(num_epochs):\n",
        "  for i, (images, labels) in enumerate(train_loader):\n",
        "    # Move tensor to the configured device\n",
        "    images = images.reshape(-1, input_size).to(device)\n",
        "    labels = labels.to(device)\n",
        "\n",
        "    # forwaed pass\n",
        "    outputs = model(images)\n",
        "    loss = criterion(outputs, labels)\n",
        "\n",
        "    # backward and optimizer\n",
        "    optimizer.zero_grad()\n",
        "    loss.backward()\n",
        "    optimizer.step()\n",
        "\n",
        "    if (i+1) % 100 == 0:\n",
        "      print('Epoch [{}/{}], Step[{}/{}], Loss: {}'.format(epoch+1, num_epochs, i+1, total_step, loss.item()))"
      ],
      "metadata": {
        "colab": {
          "base_uri": "https://localhost:8080/"
        },
        "id": "e5ZRxQ0cNbsE",
        "outputId": "e272ac36-024d-4c9c-ef6d-a4121a739288"
      },
      "execution_count": 10,
      "outputs": [
        {
          "output_type": "stream",
          "name": "stdout",
          "text": [
            "Epoch [1/10], Step[100/600], Loss: 2.2903966903686523\n",
            "Epoch [1/10], Step[200/600], Loss: 2.264683723449707\n",
            "Epoch [1/10], Step[300/600], Loss: 2.2350075244903564\n",
            "Epoch [1/10], Step[400/600], Loss: 2.2164764404296875\n",
            "Epoch [1/10], Step[500/600], Loss: 2.204686164855957\n",
            "Epoch [1/10], Step[600/600], Loss: 2.155332088470459\n",
            "Epoch [2/10], Step[100/600], Loss: 2.129190444946289\n",
            "Epoch [2/10], Step[200/600], Loss: 2.12100887298584\n",
            "Epoch [2/10], Step[300/600], Loss: 2.1112585067749023\n",
            "Epoch [2/10], Step[400/600], Loss: 2.0631842613220215\n",
            "Epoch [2/10], Step[500/600], Loss: 2.040327310562134\n",
            "Epoch [2/10], Step[600/600], Loss: 1.997241497039795\n",
            "Epoch [3/10], Step[100/600], Loss: 2.004701852798462\n",
            "Epoch [3/10], Step[200/600], Loss: 1.9650310277938843\n",
            "Epoch [3/10], Step[300/600], Loss: 1.9024335145950317\n",
            "Epoch [3/10], Step[400/600], Loss: 1.8973864316940308\n",
            "Epoch [3/10], Step[500/600], Loss: 1.8610594272613525\n",
            "Epoch [3/10], Step[600/600], Loss: 1.8097773790359497\n",
            "Epoch [4/10], Step[100/600], Loss: 1.8150807619094849\n",
            "Epoch [4/10], Step[200/600], Loss: 1.7351293563842773\n",
            "Epoch [4/10], Step[300/600], Loss: 1.6831761598587036\n",
            "Epoch [4/10], Step[400/600], Loss: 1.690051555633545\n",
            "Epoch [4/10], Step[500/600], Loss: 1.5993046760559082\n",
            "Epoch [4/10], Step[600/600], Loss: 1.678695559501648\n",
            "Epoch [5/10], Step[100/600], Loss: 1.5781265497207642\n",
            "Epoch [5/10], Step[200/600], Loss: 1.5502089262008667\n",
            "Epoch [5/10], Step[300/600], Loss: 1.5371077060699463\n",
            "Epoch [5/10], Step[400/600], Loss: 1.4474172592163086\n",
            "Epoch [5/10], Step[500/600], Loss: 1.4505844116210938\n",
            "Epoch [5/10], Step[600/600], Loss: 1.4302105903625488\n",
            "Epoch [6/10], Step[100/600], Loss: 1.457582712173462\n",
            "Epoch [6/10], Step[200/600], Loss: 1.3349733352661133\n",
            "Epoch [6/10], Step[300/600], Loss: 1.3927006721496582\n",
            "Epoch [6/10], Step[400/600], Loss: 1.300245761871338\n",
            "Epoch [6/10], Step[500/600], Loss: 1.3006211519241333\n",
            "Epoch [6/10], Step[600/600], Loss: 1.103779673576355\n",
            "Epoch [7/10], Step[100/600], Loss: 1.2389934062957764\n",
            "Epoch [7/10], Step[200/600], Loss: 1.1553982496261597\n",
            "Epoch [7/10], Step[300/600], Loss: 1.1572966575622559\n",
            "Epoch [7/10], Step[400/600], Loss: 1.1847569942474365\n",
            "Epoch [7/10], Step[500/600], Loss: 0.9850859642028809\n",
            "Epoch [7/10], Step[600/600], Loss: 1.0400830507278442\n",
            "Epoch [8/10], Step[100/600], Loss: 1.0451334714889526\n",
            "Epoch [8/10], Step[200/600], Loss: 1.1383295059204102\n",
            "Epoch [8/10], Step[300/600], Loss: 0.9812616109848022\n",
            "Epoch [8/10], Step[400/600], Loss: 0.9883646368980408\n",
            "Epoch [8/10], Step[500/600], Loss: 0.9189869165420532\n",
            "Epoch [8/10], Step[600/600], Loss: 0.995322585105896\n",
            "Epoch [9/10], Step[100/600], Loss: 0.9323833584785461\n",
            "Epoch [9/10], Step[200/600], Loss: 0.9699148535728455\n",
            "Epoch [9/10], Step[300/600], Loss: 0.9087124466896057\n",
            "Epoch [9/10], Step[400/600], Loss: 0.9104767441749573\n",
            "Epoch [9/10], Step[500/600], Loss: 0.7882531881332397\n",
            "Epoch [9/10], Step[600/600], Loss: 0.8420115113258362\n",
            "Epoch [10/10], Step[100/600], Loss: 0.7847478985786438\n",
            "Epoch [10/10], Step[200/600], Loss: 0.8559372425079346\n",
            "Epoch [10/10], Step[300/600], Loss: 0.9410145282745361\n",
            "Epoch [10/10], Step[400/600], Loss: 0.9171843528747559\n",
            "Epoch [10/10], Step[500/600], Loss: 0.7912689447402954\n",
            "Epoch [10/10], Step[600/600], Loss: 0.817141056060791\n"
          ]
        }
      ]
    },
    {
      "cell_type": "markdown",
      "source": [
        "# Test model"
      ],
      "metadata": {
        "id": "TxUDi17pPAlP"
      }
    },
    {
      "cell_type": "code",
      "source": [
        "with torch.no_grad():\n",
        "  correct = 0\n",
        "  total = 0\n",
        "  for images, labels in test_loader:\n",
        "    images = images.reshape(-1, input_size).to(device)\n",
        "    labels = labels.to(device)\n",
        "    outputs = model(images)\n",
        "\n",
        "    _, predicted = torch.max(outputs.data, 1)\n",
        "    total += labels.size(0)\n",
        "    correct += (predicted == labels).sum().item()\n",
        "\n",
        "  print('Accuracy: {}'.format(100 * correct / total))"
      ],
      "metadata": {
        "colab": {
          "base_uri": "https://localhost:8080/"
        },
        "id": "6gHfn8zyO1Rv",
        "outputId": "4e56d836-708b-4ee4-dfe0-0e22649744b9"
      },
      "execution_count": 11,
      "outputs": [
        {
          "output_type": "stream",
          "name": "stdout",
          "text": [
            "Accuracy: 84.58\n"
          ]
        }
      ]
    },
    {
      "cell_type": "markdown",
      "source": [
        "# Save model"
      ],
      "metadata": {
        "id": "j9Iv_AfVPxTl"
      }
    },
    {
      "cell_type": "code",
      "source": [
        "torch.save(model.state_dict(), 'NN_model.ckpt')"
      ],
      "metadata": {
        "id": "mBLz-nfQPvSm"
      },
      "execution_count": 12,
      "outputs": []
    }
  ]
}