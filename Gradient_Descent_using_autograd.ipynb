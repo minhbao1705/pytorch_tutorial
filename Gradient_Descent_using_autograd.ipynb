{
  "nbformat": 4,
  "nbformat_minor": 0,
  "metadata": {
    "colab": {
      "provenance": [],
      "authorship_tag": "ABX9TyOWNoXCwFW0pHCxk2RyxN8B",
      "include_colab_link": true
    },
    "kernelspec": {
      "name": "python3",
      "display_name": "Python 3"
    },
    "language_info": {
      "name": "python"
    }
  },
  "cells": [
    {
      "cell_type": "markdown",
      "metadata": {
        "id": "view-in-github",
        "colab_type": "text"
      },
      "source": [
        "<a href=\"https://colab.research.google.com/github/minhbao1705/pytorch_tutorial/blob/main/Gradient_Descent_using_autograd.ipynb\" target=\"_parent\"><img src=\"https://colab.research.google.com/assets/colab-badge.svg\" alt=\"Open In Colab\"/></a>"
      ]
    },
    {
      "cell_type": "markdown",
      "source": [
        "# Simple linear regression\n",
        "f = x * w"
      ],
      "metadata": {
        "id": "DPnAk0dzEo-k"
      }
    },
    {
      "cell_type": "code",
      "execution_count": 7,
      "metadata": {
        "id": "h-BbgvGJC2Rq"
      },
      "outputs": [],
      "source": [
        "import torch\n",
        "\n",
        "x = torch.tensor([1, 2, 3, 4], dtype=torch.float32)\n",
        "y = torch.tensor([2, 4, 6, 8], dtype=torch.float32)\n",
        "\n",
        "w = torch.tensor(1.0, dtype=torch.float32, requires_grad=True)"
      ]
    },
    {
      "cell_type": "code",
      "source": [
        "def forward(x):\n",
        "  return x * w"
      ],
      "metadata": {
        "id": "rsttrYcaE8R8"
      },
      "execution_count": 8,
      "outputs": []
    },
    {
      "cell_type": "code",
      "source": [
        "def loss(y, y_pred):\n",
        "  return ((y_pred - y)**2).mean()"
      ],
      "metadata": {
        "id": "teQXbIq_FaKO"
      },
      "execution_count": 9,
      "outputs": []
    },
    {
      "cell_type": "code",
      "source": [
        "learning_rate = 0.01\n",
        "epochs = 100\n",
        "\n",
        "for epoch in range(epochs):\n",
        "  # predict with forward\n",
        "  y_pred = forward(x)\n",
        "\n",
        "  # calculate loss\n",
        "  l = loss(y, y_pred)\n",
        "\n",
        "  # calculate gradient with backward\n",
        "  l.backward()\n",
        "\n",
        "  # update weight\n",
        "  with torch.no_grad():\n",
        "    w -= learning_rate * w.grad\n",
        "\n",
        "  # set empty gradient\n",
        "  w.grad.zero_()\n",
        "\n",
        "  if epoch % 10 == 0:\n",
        "    print(f'epoch {epoch+1}: w = {w.item():.3f}, loss = {l.item():.8f}')"
      ],
      "metadata": {
        "id": "ZQ_tdXIfFqqf",
        "colab": {
          "base_uri": "https://localhost:8080/"
        },
        "outputId": "400ba6b1-a56f-4a2a-9278-2a6d6b4d763d"
      },
      "execution_count": 10,
      "outputs": [
        {
          "output_type": "stream",
          "name": "stdout",
          "text": [
            "epoch 1: w = 1.150, loss = 7.50000000\n",
            "epoch 11: w = 1.833, loss = 0.29069635\n",
            "epoch 21: w = 1.967, loss = 0.01126729\n",
            "epoch 31: w = 1.994, loss = 0.00043671\n",
            "epoch 41: w = 1.999, loss = 0.00001693\n",
            "epoch 51: w = 2.000, loss = 0.00000066\n",
            "epoch 61: w = 2.000, loss = 0.00000003\n",
            "epoch 71: w = 2.000, loss = 0.00000000\n",
            "epoch 81: w = 2.000, loss = 0.00000000\n",
            "epoch 91: w = 2.000, loss = 0.00000000\n"
          ]
        }
      ]
    },
    {
      "cell_type": "code",
      "source": [
        "# predict\n",
        "with torch.no_grad():\n",
        "  new_x = torch.tensor(5, dtype=torch.float32)\n",
        "  pred = new_x * w\n",
        "  print(pred)"
      ],
      "metadata": {
        "colab": {
          "base_uri": "https://localhost:8080/"
        },
        "id": "_bCDPWy8XYRA",
        "outputId": "08a709b6-7cc7-414c-dbb8-a4126bd7d20e"
      },
      "execution_count": 11,
      "outputs": [
        {
          "output_type": "stream",
          "name": "stdout",
          "text": [
            "tensor(10.0000)\n"
          ]
        }
      ]
    },
    {
      "cell_type": "code",
      "source": [],
      "metadata": {
        "id": "fEEcAilsbSaK"
      },
      "execution_count": null,
      "outputs": []
    }
  ]
}