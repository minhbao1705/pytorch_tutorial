{
  "nbformat": 4,
  "nbformat_minor": 0,
  "metadata": {
    "colab": {
      "provenance": [],
      "authorship_tag": "ABX9TyPD2yBY6a3dNd6P9lTXPBOD",
      "include_colab_link": true
    },
    "kernelspec": {
      "name": "python3",
      "display_name": "Python 3"
    },
    "language_info": {
      "name": "python"
    }
  },
  "cells": [
    {
      "cell_type": "markdown",
      "metadata": {
        "id": "view-in-github",
        "colab_type": "text"
      },
      "source": [
        "<a href=\"https://colab.research.google.com/github/minhbao1705/pytorch_tutorial/blob/main/Untitled6.ipynb\" target=\"_parent\"><img src=\"https://colab.research.google.com/assets/colab-badge.svg\" alt=\"Open In Colab\"/></a>"
      ]
    },
    {
      "cell_type": "code",
      "execution_count": 1,
      "metadata": {
        "id": "ce4Jz4-9T-a3"
      },
      "outputs": [],
      "source": [
        "import torch\n",
        "import torchvision\n",
        "import torch.nn as nn\n",
        "import torchvision.transforms as transforms"
      ]
    },
    {
      "cell_type": "markdown",
      "source": [
        "# Set hyper-params"
      ],
      "metadata": {
        "id": "mkSyWqALUHTu"
      }
    },
    {
      "cell_type": "code",
      "source": [
        "input_size = 28*28\n",
        "num_classes = 10\n",
        "num_epochs = 10\n",
        "batch_size = 100\n",
        "learning_rate = 0.001"
      ],
      "metadata": {
        "id": "Oru3QhlAUGmc"
      },
      "execution_count": 2,
      "outputs": []
    },
    {
      "cell_type": "markdown",
      "source": [
        "# CIFAR-10 dataset"
      ],
      "metadata": {
        "id": "-3BT4778URbF"
      }
    },
    {
      "cell_type": "code",
      "source": [
        "!wget www.di.ens.fr/~lelarge/MNIST.tar.gz\n",
        "!tar -zxvf MNIST.tar.gz"
      ],
      "metadata": {
        "colab": {
          "base_uri": "https://localhost:8080/"
        },
        "id": "omoTuBeJUQ2F",
        "outputId": "7b6c267b-1474-4f1a-bbf7-e6fef172cfe4"
      },
      "execution_count": 3,
      "outputs": [
        {
          "output_type": "stream",
          "name": "stdout",
          "text": [
            "--2023-06-08 09:23:26--  http://www.di.ens.fr/~lelarge/MNIST.tar.gz\n",
            "Resolving www.di.ens.fr (www.di.ens.fr)... 129.199.99.14\n",
            "Connecting to www.di.ens.fr (www.di.ens.fr)|129.199.99.14|:80... connected.\n",
            "HTTP request sent, awaiting response... 302 Found\n",
            "Location: https://www.di.ens.fr/~lelarge/MNIST.tar.gz [following]\n",
            "--2023-06-08 09:23:26--  https://www.di.ens.fr/~lelarge/MNIST.tar.gz\n",
            "Connecting to www.di.ens.fr (www.di.ens.fr)|129.199.99.14|:443... connected.\n",
            "HTTP request sent, awaiting response... 200 OK\n",
            "Length: unspecified [application/x-gzip]\n",
            "Saving to: ‘MNIST.tar.gz’\n",
            "\n",
            "MNIST.tar.gz            [         <=>        ]  33.20M  17.8MB/s    in 1.9s    \n",
            "\n",
            "2023-06-08 09:23:28 (17.8 MB/s) - ‘MNIST.tar.gz’ saved [34813078]\n",
            "\n",
            "MNIST/\n",
            "MNIST/raw/\n",
            "MNIST/raw/train-labels-idx1-ubyte\n",
            "MNIST/raw/t10k-labels-idx1-ubyte.gz\n",
            "MNIST/raw/t10k-labels-idx1-ubyte\n",
            "MNIST/raw/t10k-images-idx3-ubyte.gz\n",
            "MNIST/raw/train-images-idx3-ubyte\n",
            "MNIST/raw/train-labels-idx1-ubyte.gz\n",
            "MNIST/raw/t10k-images-idx3-ubyte\n",
            "MNIST/raw/train-images-idx3-ubyte.gz\n",
            "MNIST/processed/\n",
            "MNIST/processed/training.pt\n",
            "MNIST/processed/test.pt\n"
          ]
        }
      ]
    },
    {
      "cell_type": "code",
      "source": [
        "train_dataset = torchvision.datasets.MNIST(root='./',\n",
        "                                           train=True,\n",
        "                                           transform=transforms.ToTensor(),\n",
        "                                           download=True)\n",
        "\n",
        "test_dataset = torchvision.datasets.MNIST(root='./',\n",
        "                                          train=False,\n",
        "                                          transform=transforms.ToTensor())\n",
        "\n",
        "# Data loader (input pipeline)\n",
        "train_loader = torch.utils.data.DataLoader(dataset=train_dataset,\n",
        "                                           batch_size=batch_size,\n",
        "                                           shuffle=True)\n",
        "\n",
        "test_loader = torch.utils.data.DataLoader(dataset=test_dataset,\n",
        "                                          batch_size=batch_size,\n",
        "                                          shuffle=False)"
      ],
      "metadata": {
        "id": "93bLvB_WUWK-"
      },
      "execution_count": 4,
      "outputs": []
    },
    {
      "cell_type": "markdown",
      "source": [
        "# Create logistic regression model"
      ],
      "metadata": {
        "id": "tZkV8g2IVJLo"
      }
    },
    {
      "cell_type": "code",
      "source": [
        "model = nn.Linear(input_size, num_classes)"
      ],
      "metadata": {
        "id": "VmmmNonLVIcs"
      },
      "execution_count": 5,
      "outputs": []
    },
    {
      "cell_type": "markdown",
      "source": [
        "# Loss and optimizer"
      ],
      "metadata": {
        "id": "p3IiUgHyVRDk"
      }
    },
    {
      "cell_type": "code",
      "source": [
        "criterion = nn.CrossEntropyLoss()\n",
        "optimizer = torch.optim.SGD(model.parameters(), lr = learning_rate)"
      ],
      "metadata": {
        "id": "5d4A6D-lVQlM"
      },
      "execution_count": 6,
      "outputs": []
    },
    {
      "cell_type": "markdown",
      "source": [
        "# Train model"
      ],
      "metadata": {
        "id": "O5IpnK72VoqM"
      }
    },
    {
      "cell_type": "code",
      "source": [
        "total_step = len(train_loader)\n",
        "for epoch in range(num_epochs):\n",
        "  for i, (images, labels) in enumerate(train_loader):\n",
        "    # reshape image to (batch_size, input_size)\n",
        "    images = images.reshape(-1, input_size)\n",
        "\n",
        "    # forward pass\n",
        "    outputs = model(images)\n",
        "    loss = criterion(outputs, labels)\n",
        "\n",
        "    # backward and optimize\n",
        "    optimizer.zero_grad()\n",
        "    optimizer.step()\n",
        "\n",
        "    if (i+1)%100 == 0:\n",
        "      print ('Epoch [{}/{}], Step [{}/{}], Loss: {}' \n",
        "              .format(epoch+1, num_epochs, i+1, total_step, loss.item()))"
      ],
      "metadata": {
        "colab": {
          "base_uri": "https://localhost:8080/"
        },
        "id": "6pfil1ncVoMs",
        "outputId": "14807dc1-df80-4043-d4ad-e2979d02f92b"
      },
      "execution_count": 8,
      "outputs": [
        {
          "output_type": "stream",
          "name": "stdout",
          "text": [
            "Epoch [1/10], Step [100/600], Loss: 2.3016040325164795\n",
            "Epoch [1/10], Step [200/600], Loss: 2.272834300994873\n",
            "Epoch [1/10], Step [300/600], Loss: 2.265479803085327\n",
            "Epoch [1/10], Step [400/600], Loss: 2.2897064685821533\n",
            "Epoch [1/10], Step [500/600], Loss: 2.294020414352417\n",
            "Epoch [1/10], Step [600/600], Loss: 2.284060001373291\n",
            "Epoch [2/10], Step [100/600], Loss: 2.3081257343292236\n",
            "Epoch [2/10], Step [200/600], Loss: 2.2767293453216553\n",
            "Epoch [2/10], Step [300/600], Loss: 2.2882187366485596\n",
            "Epoch [2/10], Step [400/600], Loss: 2.291241407394409\n",
            "Epoch [2/10], Step [500/600], Loss: 2.302001476287842\n",
            "Epoch [2/10], Step [600/600], Loss: 2.27690052986145\n",
            "Epoch [3/10], Step [100/600], Loss: 2.282428503036499\n",
            "Epoch [3/10], Step [200/600], Loss: 2.277622699737549\n",
            "Epoch [3/10], Step [300/600], Loss: 2.290043592453003\n",
            "Epoch [3/10], Step [400/600], Loss: 2.2938859462738037\n",
            "Epoch [3/10], Step [500/600], Loss: 2.3025717735290527\n",
            "Epoch [3/10], Step [600/600], Loss: 2.290761947631836\n",
            "Epoch [4/10], Step [100/600], Loss: 2.2968621253967285\n",
            "Epoch [4/10], Step [200/600], Loss: 2.281977653503418\n",
            "Epoch [4/10], Step [300/600], Loss: 2.2896344661712646\n",
            "Epoch [4/10], Step [400/600], Loss: 2.3097643852233887\n",
            "Epoch [4/10], Step [500/600], Loss: 2.2845568656921387\n",
            "Epoch [4/10], Step [600/600], Loss: 2.3150758743286133\n",
            "Epoch [5/10], Step [100/600], Loss: 2.3055708408355713\n",
            "Epoch [5/10], Step [200/600], Loss: 2.284292459487915\n",
            "Epoch [5/10], Step [300/600], Loss: 2.2792482376098633\n",
            "Epoch [5/10], Step [400/600], Loss: 2.3119113445281982\n",
            "Epoch [5/10], Step [500/600], Loss: 2.297008752822876\n",
            "Epoch [5/10], Step [600/600], Loss: 2.33019757270813\n",
            "Epoch [6/10], Step [100/600], Loss: 2.299276113510132\n",
            "Epoch [6/10], Step [200/600], Loss: 2.2804183959960938\n",
            "Epoch [6/10], Step [300/600], Loss: 2.3189895153045654\n",
            "Epoch [6/10], Step [400/600], Loss: 2.2847487926483154\n",
            "Epoch [6/10], Step [500/600], Loss: 2.269698143005371\n",
            "Epoch [6/10], Step [600/600], Loss: 2.308417797088623\n",
            "Epoch [7/10], Step [100/600], Loss: 2.3008830547332764\n",
            "Epoch [7/10], Step [200/600], Loss: 2.2820582389831543\n",
            "Epoch [7/10], Step [300/600], Loss: 2.2844581604003906\n",
            "Epoch [7/10], Step [400/600], Loss: 2.284252166748047\n",
            "Epoch [7/10], Step [500/600], Loss: 2.330817937850952\n",
            "Epoch [7/10], Step [600/600], Loss: 2.305335760116577\n",
            "Epoch [8/10], Step [100/600], Loss: 2.267829656600952\n",
            "Epoch [8/10], Step [200/600], Loss: 2.286846160888672\n",
            "Epoch [8/10], Step [300/600], Loss: 2.30243182182312\n",
            "Epoch [8/10], Step [400/600], Loss: 2.2816996574401855\n",
            "Epoch [8/10], Step [500/600], Loss: 2.3278965950012207\n",
            "Epoch [8/10], Step [600/600], Loss: 2.2750775814056396\n",
            "Epoch [9/10], Step [100/600], Loss: 2.2629623413085938\n",
            "Epoch [9/10], Step [200/600], Loss: 2.289803981781006\n",
            "Epoch [9/10], Step [300/600], Loss: 2.2864022254943848\n",
            "Epoch [9/10], Step [400/600], Loss: 2.2841663360595703\n",
            "Epoch [9/10], Step [500/600], Loss: 2.2980458736419678\n",
            "Epoch [9/10], Step [600/600], Loss: 2.274076461791992\n",
            "Epoch [10/10], Step [100/600], Loss: 2.31309175491333\n",
            "Epoch [10/10], Step [200/600], Loss: 2.2765729427337646\n",
            "Epoch [10/10], Step [300/600], Loss: 2.3105597496032715\n",
            "Epoch [10/10], Step [400/600], Loss: 2.2782206535339355\n",
            "Epoch [10/10], Step [500/600], Loss: 2.2789723873138428\n",
            "Epoch [10/10], Step [600/600], Loss: 2.304967164993286\n"
          ]
        }
      ]
    },
    {
      "cell_type": "markdown",
      "source": [
        "# Test model"
      ],
      "metadata": {
        "id": "LgSsf4D6Z70R"
      }
    },
    {
      "cell_type": "code",
      "source": [
        "with torch.no_grad():\n",
        "  correct = 0\n",
        "  total = 0\n",
        "  for images, labels, in test_loader:\n",
        "    images = images.reshape(-1, input_size)\n",
        "    outputs = model(images)\n",
        "    _, predicted = torch.max(outputs.data, 1)\n",
        "    total += labels.size(0)\n",
        "    correct += (predicted == labels).sum()\n",
        "\n",
        "  print(\"Acc: \", (100*correct)/total)"
      ],
      "metadata": {
        "colab": {
          "base_uri": "https://localhost:8080/"
        },
        "id": "oIwWVWF4Z4Jd",
        "outputId": "cf24ea41-6932-404a-c274-e1ff2e325d70"
      },
      "execution_count": 10,
      "outputs": [
        {
          "output_type": "stream",
          "name": "stdout",
          "text": [
            "Acc:  tensor(13.7300)\n"
          ]
        }
      ]
    },
    {
      "cell_type": "markdown",
      "source": [
        "# Save model"
      ],
      "metadata": {
        "id": "ikCW07QEaajo"
      }
    },
    {
      "cell_type": "code",
      "source": [
        "torch.save(model.state_dict(), 'logistic_regression_model.ckpt')"
      ],
      "metadata": {
        "id": "Ir0TopU1aXHG"
      },
      "execution_count": 11,
      "outputs": []
    }
  ]
}