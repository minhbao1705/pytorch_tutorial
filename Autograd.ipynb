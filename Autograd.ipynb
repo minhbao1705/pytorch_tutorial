{
  "nbformat": 4,
  "nbformat_minor": 0,
  "metadata": {
    "colab": {
      "provenance": [],
      "authorship_tag": "ABX9TyN8tKNf7JEkSxvZ8ojyyflb",
      "include_colab_link": true
    },
    "kernelspec": {
      "name": "python3",
      "display_name": "Python 3"
    },
    "language_info": {
      "name": "python"
    }
  },
  "cells": [
    {
      "cell_type": "markdown",
      "metadata": {
        "id": "view-in-github",
        "colab_type": "text"
      },
      "source": [
        "<a href=\"https://colab.research.google.com/github/minhbao1705/pytorch_tutorial/blob/main/Autograd.ipynb\" target=\"_parent\"><img src=\"https://colab.research.google.com/assets/colab-badge.svg\" alt=\"Open In Colab\"/></a>"
      ]
    },
    {
      "cell_type": "markdown",
      "source": [
        "Trong phần này sẽ tìm hiểu về cách tính đạo hàm bằng cách sử dụng autograd package trong Pytorch"
      ],
      "metadata": {
        "id": "Qd6ZYdQHQF-3"
      }
    },
    {
      "cell_type": "markdown",
      "source": [
        "# **1 - The Autograd package**\n",
        "\n",
        "Autograd package cung cấp một sự khác biệt tự động cho tất cả các hoạt động của tensor. Rất dễ dàng để sử dụng đạo hàm trong pytorch bằng cách chỉ cho nó biết rằng tensor cần được đạo hàm bằng requires_grad. Với việc thiết lập thuộc tính này, các phép toán trên tensor đều được theo dõi trên một đồ thị tính toán."
      ],
      "metadata": {
        "id": "E97xxMlYQO9A"
      }
    },
    {
      "cell_type": "code",
      "execution_count": 2,
      "metadata": {
        "id": "jwZSgsovP2no"
      },
      "outputs": [],
      "source": [
        "import torch\n",
        "\n",
        "x = torch.randn(3, requires_grad=True)\n",
        "y = x + 2"
      ]
    },
    {
      "cell_type": "code",
      "source": [
        "\"\"\"\n",
        "  - ở cell trên y đã được tạo ra bởi kết quả của phép tính x + 2, vì vậy nó sẽ tạo một thuộc tính grad_fn.\n",
        "  - grad_fn: tham chiếu đến một hàm đã tạo tensor\n",
        "\"\"\"\n",
        "print(x) # Đã được tạo ở cell trên -> grad_fn lúc này là None\n",
        "print(y)\n",
        "print(y.grad_fn)"
      ],
      "metadata": {
        "colab": {
          "base_uri": "https://localhost:8080/"
        },
        "id": "k7fb-z1WQ6cw",
        "outputId": "f118cfbd-2fe3-4c23-d033-d8991bcdcbcb"
      },
      "execution_count": 3,
      "outputs": [
        {
          "output_type": "stream",
          "name": "stdout",
          "text": [
            "tensor([ 1.4830,  0.3633, -1.0178], requires_grad=True)\n",
            "tensor([3.4830, 2.3633, 0.9822], grad_fn=<AddBackward0>)\n",
            "<AddBackward0 object at 0x7f44a1345060>\n"
          ]
        }
      ]
    },
    {
      "cell_type": "code",
      "source": [
        "# Thực hiện các phép tính khác trên y\n",
        "z = y * 3\n",
        "print(z)\n",
        "z = z + 3\n",
        "print(z)"
      ],
      "metadata": {
        "colab": {
          "base_uri": "https://localhost:8080/"
        },
        "id": "kQPByp1TRQoi",
        "outputId": "46c5c02a-8c13-4cd6-99f2-2a0164d5ce3a"
      },
      "execution_count": 4,
      "outputs": [
        {
          "output_type": "stream",
          "name": "stdout",
          "text": [
            "tensor([10.4489,  7.0898,  2.9465], grad_fn=<MulBackward0>)\n",
            "tensor([13.4489, 10.0898,  5.9465], grad_fn=<AddBackward0>)\n"
          ]
        }
      ]
    },
    {
      "cell_type": "markdown",
      "source": [
        "# **2 - Tính đạo hàm với lan truyền ngược**\n",
        "\n",
        "Khi hoàn tất quá trình tính toán, ta có thể gọi .backward() và tất cả giá trị đạo hàm sẽ được tính toán một cách tự động. Giá trị đạo hàm của những tensor này sẽ được tích lũy vào trong thuộc tính.grad. Nó chính là đạo hàm riêng của tensor."
      ],
      "metadata": {
        "id": "_9VIntL9Sw5Z"
      }
    },
    {
      "cell_type": "code",
      "source": [
        "z = z.mean()\n",
        "z.backward()\n",
        "print(x.grad) # dz/dx"
      ],
      "metadata": {
        "colab": {
          "base_uri": "https://localhost:8080/"
        },
        "id": "uTlF1sJeR4K3",
        "outputId": "f0c2bb63-a9ad-403b-916c-ea1d81ba2151"
      },
      "execution_count": 5,
      "outputs": [
        {
          "output_type": "stream",
          "name": "stdout",
          "text": [
            "tensor([1., 1., 1.])\n"
          ]
        }
      ]
    },
    {
      "cell_type": "code",
      "source": [
        "x = torch.randn(5, requires_grad=True)\n",
        "print(x)\n",
        "y = x*2\n",
        "for _ in range(10):\n",
        "  y = y * 2\n",
        "\n",
        "print(y)\n",
        "print(y.shape)"
      ],
      "metadata": {
        "colab": {
          "base_uri": "https://localhost:8080/"
        },
        "id": "CRVFprrqTm5g",
        "outputId": "fbb8d68b-6188-4993-c544-d1a4a7544c66"
      },
      "execution_count": 6,
      "outputs": [
        {
          "output_type": "stream",
          "name": "stdout",
          "text": [
            "tensor([-2.8691, -0.2078, -0.6027, -1.1776,  0.6404], requires_grad=True)\n",
            "tensor([-5875.8149,  -425.6151, -1234.3121, -2411.7559,  1311.5994],\n",
            "       grad_fn=<MulBackward0>)\n",
            "torch.Size([5])\n"
          ]
        }
      ]
    },
    {
      "cell_type": "code",
      "source": [
        "w = torch.tensor([0.1, 1.0, 0.0001, 0.01, 0.001], dtype=torch.float32)\n",
        "y.backward(w)\n",
        "print(x.grad)"
      ],
      "metadata": {
        "colab": {
          "base_uri": "https://localhost:8080/"
        },
        "id": "GZMlPx8HUzVk",
        "outputId": "272423cd-aed7-41ce-90e1-1a59435fa8d4"
      },
      "execution_count": 7,
      "outputs": [
        {
          "output_type": "stream",
          "name": "stdout",
          "text": [
            "tensor([2.0480e+02, 2.0480e+03, 2.0480e-01, 2.0480e+01, 2.0480e+00])\n"
          ]
        }
      ]
    },
    {
      "cell_type": "markdown",
      "source": [
        "# **3 - Stop a tensor from tracking history**"
      ],
      "metadata": {
        "id": "RC5AQyd1VN_7"
      }
    },
    {
      "cell_type": "markdown",
      "source": [
        "Trong quá trình huấn luyện, khi chúng ta muốn cập nhật trọng số thì thao tác cập nhật này không nên là một phần của phép tính đạo hàm. Chúng ta có 3 sự lựa chọn cho việc dừng quá trình đạo hàm và cập nhật tham số như sau:\n",
        "- x.requires_grad_false()\n",
        "- x.detach()\n",
        "- wrap in with torch.no_grad():"
      ],
      "metadata": {
        "id": "PrsuxN1BVUvT"
      }
    },
    {
      "cell_type": "markdown",
      "source": [
        "**.requires_grad_(...) thay đổi yêu cầu ngay tại vị trí cần yêu cầu đạo hàm**"
      ],
      "metadata": {
        "id": "yXduKUoQVXg4"
      }
    },
    {
      "cell_type": "code",
      "source": [
        "# requires_grad_()\n",
        "a = torch.rand(2, 2)\n",
        "print(a.requires_grad) # Kiểm tra a đã được yêu cầu tính đạo hàm hay chưa\n",
        "b = (a*5) / (a-1)\n",
        "print(b.grad_fn) # Do a chưa tính đạo hàm nên grad_fn lúc này sẽ là None\n",
        "a.requires_grad_(True) # Thiết lập tính đạo hàm cho a\n",
        "print(a.requires_grad)\n",
        "b = (a**2).sum()\n",
        "print(b.grad_fn) # Sau khi thiết lập đạo hàm cho a. Thì phép tính b trên a sẽ nhận được grad_fn "
      ],
      "metadata": {
        "id": "qfFibb31VAUm",
        "outputId": "603d1700-595b-4a9b-83a7-fb67e0af1514",
        "colab": {
          "base_uri": "https://localhost:8080/"
        }
      },
      "execution_count": 9,
      "outputs": [
        {
          "output_type": "stream",
          "name": "stdout",
          "text": [
            "False\n",
            "None\n",
            "True\n",
            "<SumBackward0 object at 0x7f44a2052fb0>\n"
          ]
        }
      ]
    },
    {
      "cell_type": "markdown",
      "source": [
        "**.detach(): Lấy một tensor mới với nội dung tương tự nhưng không yêu cầu tính đạo hàm**"
      ],
      "metadata": {
        "id": "ceWBZrja86J0"
      }
    },
    {
      "cell_type": "code",
      "source": [
        "a = torch.rand(2, 2, requires_grad=True)\n",
        "print(a.requires_grad)\n",
        "print(a)\n",
        "b = a.detach()\n",
        "print(b.requires_grad)\n",
        "print(b)"
      ],
      "metadata": {
        "id": "J7rMj-Eb8gty",
        "outputId": "8b453f08-b426-4818-ebff-d277c8bf1ba4",
        "colab": {
          "base_uri": "https://localhost:8080/"
        }
      },
      "execution_count": 10,
      "outputs": [
        {
          "output_type": "stream",
          "name": "stdout",
          "text": [
            "True\n",
            "tensor([[0.0625, 0.1179],\n",
            "        [0.6212, 0.3338]], requires_grad=True)\n",
            "False\n",
            "tensor([[0.0625, 0.1179],\n",
            "        [0.6212, 0.3338]])\n"
          ]
        }
      ]
    },
    {
      "cell_type": "markdown",
      "source": [
        "**wrap in with torch.no_grad()**"
      ],
      "metadata": {
        "id": "8uJW9jsS9Mu4"
      }
    },
    {
      "cell_type": "code",
      "source": [
        "a = torch.rand(2, 2, requires_grad=True)\n",
        "print(a.requires_grad)\n",
        "with torch.no_grad():\n",
        "  print((a+2).requires_grad)"
      ],
      "metadata": {
        "id": "mH8yRaQg9KJq",
        "outputId": "e878790a-a01e-49fe-9bc8-9245504e6e00",
        "colab": {
          "base_uri": "https://localhost:8080/"
        }
      },
      "execution_count": 12,
      "outputs": [
        {
          "output_type": "stream",
          "name": "stdout",
          "text": [
            "True\n",
            "False\n"
          ]
        }
      ]
    },
    {
      "cell_type": "markdown",
      "source": [
        "# **4 - Empty gradients**"
      ],
      "metadata": {
        "id": "Ne3YCDFx9v0i"
      }
    },
    {
      "cell_type": "markdown",
      "source": [
        "Với backward() ta sẽ có đạo hàm tích lũy bên trong thuộc tính *.grad*. Chúng ta cần cẩn thận với nó trong quá trình tối ưu.\n",
        "-> Sử dụng *.zero_()* cho đạo hàm trước khi bắt đầu bước tối ưu - điều này sẽ tránh lưu lại kết quả của lần đạo hàm trước đó. "
      ],
      "metadata": {
        "id": "2U4nICHj92Dt"
      }
    },
    {
      "cell_type": "code",
      "source": [
        "weights = torch.ones(4, requires_grad=True)\n",
        "\n",
        "for epoch in range(5):\n",
        "  model_output = (weights*5).sum()\n",
        "  model_output.backward()\n",
        "\n",
        "  print(weights.grad)\n",
        "  # Tối ưu model bằng cách cập nhật trọng số sau khi đạo hàm\n",
        "  with torch.no_grad():\n",
        "    weights -= 0.001 * weights.grad\n",
        "  \n",
        "  weights.grad.zero_() # sử dụng empty gradients trước khi bắt đầu một lần tối ưu tiếp theo"
      ],
      "metadata": {
        "id": "dwVzK9sl9lPz",
        "outputId": "58f62fec-b355-44f2-9911-601a6e59a2ce",
        "colab": {
          "base_uri": "https://localhost:8080/"
        }
      },
      "execution_count": 13,
      "outputs": [
        {
          "output_type": "stream",
          "name": "stdout",
          "text": [
            "tensor([5., 5., 5., 5.])\n",
            "tensor([5., 5., 5., 5.])\n",
            "tensor([5., 5., 5., 5.])\n",
            "tensor([5., 5., 5., 5.])\n",
            "tensor([5., 5., 5., 5.])\n"
          ]
        }
      ]
    }
  ]
}